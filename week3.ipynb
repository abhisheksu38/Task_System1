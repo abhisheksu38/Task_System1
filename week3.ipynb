{
  "nbformat": 4,
  "nbformat_minor": 0,
  "metadata": {
    "colab": {
      "provenance": [],
      "authorship_tag": "ABX9TyPA9AUewxD7HWfkcoUXcKWs",
      "include_colab_link": true
    },
    "kernelspec": {
      "name": "python3",
      "display_name": "Python 3"
    },
    "language_info": {
      "name": "python"
    }
  },
  "cells": [
    {
      "cell_type": "markdown",
      "metadata": {
        "id": "view-in-github",
        "colab_type": "text"
      },
      "source": [
        "<a href=\"https://colab.research.google.com/github/abhisheksu38/Task_System1/blob/main/week3.ipynb\" target=\"_parent\"><img src=\"https://colab.research.google.com/assets/colab-badge.svg\" alt=\"Open In Colab\"/></a>"
      ]
    },
    {
      "cell_type": "markdown",
      "source": [
        "### Random Forest Model"
      ],
      "metadata": {
        "id": "Uxb5xrJA3pjK"
      }
    },
    {
      "cell_type": "code",
      "source": [
        "import pandas as pd\n",
        "from sklearn.model_selection import train_test_split\n",
        "from sklearn.ensemble import RandomForestClassifier\n",
        "from sklearn.preprocessing import StandardScaler\n",
        "from sklearn.metrics import accuracy_score, precision_score, recall_score, f1_score\n"
      ],
      "metadata": {
        "id": "bhKVBYoH4r6Q"
      },
      "execution_count": 9,
      "outputs": []
    },
    {
      "cell_type": "code",
      "source": [
        "# Load dataset\n",
        "df = pd.read_csv('/content/Cleaned_marketing_campaign (1).csv')"
      ],
      "metadata": {
        "id": "s9vpXawS4dAz"
      },
      "execution_count": 10,
      "outputs": []
    },
    {
      "cell_type": "code",
      "source": [
        "# Fill missing values\n",
        "df['Income'] = df['Income'].fillna(df['Income'].mean())\n",
        "df = df.dropna(subset=['Family_Size'])  # Drop if target is missing\n",
        "df['Family_Size'] = df['Family_Size'].astype(int)\n",
        "\n",
        "# Feature matrix and target\n",
        "X = df.select_dtypes(include=['number']).drop(columns=['Family_Size'])\n",
        "y = df['Family_Size']\n",
        "\n",
        "# Optional: Feature Scaling\n",
        "scaler = StandardScaler()\n",
        "X_scaled = scaler.fit_transform(X)\n",
        "\n",
        "# Train-test split\n",
        "X_train, X_test, y_train, y_test = train_test_split(X_scaled, y, test_size=0.2, random_state=42)"
      ],
      "metadata": {
        "id": "UikJuB7O5RBm"
      },
      "execution_count": 11,
      "outputs": []
    },
    {
      "cell_type": "code",
      "execution_count": 12,
      "metadata": {
        "colab": {
          "base_uri": "https://localhost:8080/"
        },
        "id": "2KoqUYw42KWu",
        "outputId": "2bb81200-1707-4256-e1d7-76d03086cf33"
      },
      "outputs": [
        {
          "output_type": "stream",
          "name": "stdout",
          "text": [
            "Accuracy : 0.6294642857142857\n",
            "Precision: 0.6304363472092059\n",
            "Recall   : 0.6294642857142857\n",
            "F1-Score : 0.6134627127988341\n"
          ]
        }
      ],
      "source": [
        "# Train Random Forest\n",
        "rf_model = RandomForestClassifier(n_estimators=100, random_state=42)\n",
        "rf_model.fit(X_train, y_train)\n",
        "\n",
        "# Predict and evaluate\n",
        "y_pred = rf_model.predict(X_test)\n",
        "\n",
        "print(\"Accuracy :\", accuracy_score(y_test, y_pred))\n",
        "print(\"Precision:\", precision_score(y_test, y_pred, average='weighted'))\n",
        "print(\"Recall   :\", recall_score(y_test, y_pred, average='weighted'))\n",
        "print(\"F1-Score :\", f1_score(y_test, y_pred, average='weighted'))"
      ]
    },
    {
      "cell_type": "markdown",
      "source": [
        "## Hyperparameter Tuning"
      ],
      "metadata": {
        "id": "sfXIliXC6gIf"
      }
    },
    {
      "cell_type": "code",
      "source": [
        "from sklearn.model_selection import GridSearchCV\n",
        "from sklearn.ensemble import RandomForestClassifier\n",
        "\n",
        "# Define the parameter grid\n",
        "param_grid = {\n",
        "    'n_estimators': [50, 100, 150],\n",
        "    'max_depth': [None, 5, 10, 20],\n",
        "    'min_samples_split': [2, 5, 10],\n",
        "    'min_samples_leaf': [1, 2, 4]\n",
        "}\n",
        "\n",
        "# Create the model\n",
        "rf = RandomForestClassifier(random_state=42)\n",
        "# Set up GridSearch\n",
        "grid_search = GridSearchCV(estimator=rf, param_grid=param_grid,\n",
        "                           cv=5, scoring='accuracy', n_jobs=-1, verbose=1)\n",
        "# Fit the grid search\n",
        "grid_search.fit(X_train, y_train)\n",
        "\n",
        "# Best model and parameters\n",
        "best_rf = grid_search.best_estimator_\n",
        "print(\"Best Parameters:\", grid_search.best_params_)\n"
      ],
      "metadata": {
        "colab": {
          "base_uri": "https://localhost:8080/"
        },
        "id": "zpuwdUyw6gm_",
        "outputId": "3472160a-53ef-459b-a1fa-1ebecee1b0b0"
      },
      "execution_count": 16,
      "outputs": [
        {
          "output_type": "stream",
          "name": "stdout",
          "text": [
            "Fitting 5 folds for each of 108 candidates, totalling 540 fits\n",
            "Best Parameters: {'max_depth': 10, 'min_samples_leaf': 1, 'min_samples_split': 5, 'n_estimators': 100}\n"
          ]
        }
      ]
    },
    {
      "cell_type": "code",
      "source": [
        "import joblib\n",
        "\n",
        "# Save best model\n",
        "joblib.dump(best_rf, 'best_random_forest_model.pkl')\n",
        "\n",
        "print(\"Best Random Forest model saved as 'best_random_forest_model.pkl'\")\n"
      ],
      "metadata": {
        "colab": {
          "base_uri": "https://localhost:8080/"
        },
        "id": "yPYSspqN_BWe",
        "outputId": "689a26e8-a57c-4a5b-bce3-a64eb7a8c844"
      },
      "execution_count": 17,
      "outputs": [
        {
          "output_type": "stream",
          "name": "stdout",
          "text": [
            "Best Random Forest model saved as 'best_random_forest_model.pkl'\n"
          ]
        }
      ]
    },
    {
      "cell_type": "code",
      "source": [
        "from sklearn.metrics import confusion_matrix\n",
        "import seaborn as sns\n",
        "import matplotlib.pyplot as plt\n",
        "\n",
        "# Predict using the best model\n",
        "y_pred = best_rf.predict(X_test)\n",
        "\n",
        "# Compute confusion matrix\n",
        "cm = confusion_matrix(y_test, y_pred)\n",
        "\n",
        "# Plot\n",
        "plt.figure(figsize=(8, 6))\n",
        "sns.heatmap(cm, annot=True, fmt='d', cmap='Blues', linewidths=.5)\n",
        "plt.title(\"Confusion Matrix - Random Forest\")\n",
        "plt.xlabel(\"Predicted\")\n",
        "plt.ylabel(\"Actual\")\n",
        "plt.show()\n"
      ],
      "metadata": {
        "colab": {
          "base_uri": "https://localhost:8080/",
          "height": 564
        },
        "id": "9c3FmN7X_guz",
        "outputId": "abeae847-99f2-4882-e67e-5bfe322dcd00"
      },
      "execution_count": 19,
      "outputs": [
        {
          "output_type": "display_data",
          "data": {
            "text/plain": [
              "<Figure size 800x600 with 2 Axes>"
            ],
            "image/png": "[encoded data removed]"
          },
          "metadata": {}
        }
      ]
    },
    {
      "cell_type": "markdown",
      "source": [
        "## Integration into the workflow"
      ],
      "metadata": {
        "id": "ePC0NDdYB386"
      }
    },
    {
      "cell_type": "code",
      "source": [
        "import joblib\n",
        "\n",
        "# Assuming this is your scaler\n",
        "joblib.dump(scaler, 'scaler.pkl')\n",
        "print(\"Scaler saved as scaler.pkl\")\n"
      ],
      "metadata": {
        "colab": {
          "base_uri": "https://localhost:8080/"
        },
        "id": "Vhx-tkGICcYg",
        "outputId": "95384a6b-3e10-44cb-b21c-84f9f6561776"
      },
      "execution_count": 23,
      "outputs": [
        {
          "output_type": "stream",
          "name": "stdout",
          "text": [
            "Scaler saved as scaler.pkl\n"
          ]
        }
      ]
    },
    {
      "cell_type": "code",
      "source": [
        "scaler = joblib.load('scaler.pkl')"
      ],
      "metadata": {
        "id": "8WchPHy6Cef1"
      },
      "execution_count": 24,
      "outputs": []
    },
    {
      "cell_type": "code",
      "source": [
        "import pandas as pd\n",
        "import joblib\n",
        "from sklearn.preprocessing import StandardScaler\n",
        "\n",
        "# Load artifacts\n",
        "scaler = joblib.load('scaler.pkl')  # You already saved this\n",
        "model = joblib.load('/content/best_random_forest_model.pkl')  # Tuned Random Forest\n",
        "\n",
        "# Wrap preprocessing\n",
        "def preprocess_input(new_data_df):\n",
        "    # Fill missing values\n",
        "    new_data_df['Income'] = new_data_df['Income'].fillna(new_data_df['Income'].mean())\n",
        "    new_data_df = new_data_df.dropna(subset=['Family_Size'])  # Target\n",
        "    new_data_df['Family_Size'] = new_data_df['Family_Size'].astype(int)\n",
        "\n",
        "    # Select numeric features and scale\n",
        "    X_new = new_data_df.select_dtypes(include=['number']).drop(columns=['Family_Size'])\n",
        "    X_scaled = scaler.transform(X_new)\n",
        "    return X_scaled, new_data_df['Family_Size']\n"
      ],
      "metadata": {
        "id": "hwBw9cs6CDEh"
      },
      "execution_count": 25,
      "outputs": []
    },
    {
      "cell_type": "code",
      "source": [
        "def predict_family_size(input_df):\n",
        "    X_scaled, y_true = preprocess_input(input_df)\n",
        "    y_pred = model.predict(X_scaled)\n",
        "    return y_pred, y_true"
      ],
      "metadata": {
        "id": "WRQ8Ga4mCo6I"
      },
      "execution_count": 26,
      "outputs": []
    },
    {
      "cell_type": "code",
      "source": [
        "# Load new batch or reuse the same file\n",
        "df_new = pd.read_csv(\"/content/Cleaned_marketing_campaign (1).csv\")\n",
        "\n",
        "# Predict\n",
        "predicted, actual = predict_family_size(df_new)\n",
        "\n",
        "# Display comparison\n",
        "results = pd.DataFrame({\n",
        "    'Actual': actual.values,\n",
        "    'Predicted': predicted\n",
        "})\n",
        "\n",
        "print(results.head())\n"
      ],
      "metadata": {
        "colab": {
          "base_uri": "https://localhost:8080/"
        },
        "id": "OmNQERghCqGX",
        "outputId": "450fd9ca-aae2-46c8-ec4c-2ac093a2dd75"
      },
      "execution_count": 28,
      "outputs": [
        {
          "output_type": "stream",
          "name": "stdout",
          "text": [
            "   Actual  Predicted\n",
            "0       1          1\n",
            "1       3          3\n",
            "2       2          2\n",
            "3       3          3\n",
            "4       3          3\n"
          ]
        }
      ]
    }
  ]
}